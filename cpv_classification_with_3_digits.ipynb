{
  "cells": [
    {
      "cell_type": "markdown",
      "metadata": {
        "id": "AhewfMeg_33N"
      },
      "source": [
        "## Libraries"
      ]
    },
    {
      "cell_type": "code",
      "execution_count": 1,
      "metadata": {
        "colab": {
          "base_uri": "https://localhost:8080/"
        },
        "id": "VSzYl24UGVGj",
        "outputId": "fcf55b51-8868-419b-f718-1ef727d72075"
      },
      "outputs": [
        {
          "name": "stdout",
          "output_type": "stream",
          "text": [
            "Mounted at /content/drive\n"
          ]
        }
      ],
      "source": [
        "from sklearn.svm import SVC\n",
        "from sklearn.preprocessing import StandardScaler\n",
        "import pandas as pd\n",
        "import numpy as np\n",
        "from sklearn.feature_extraction.text import TfidfVectorizer\n",
        "from sklearn.model_selection import train_test_split, GridSearchCV, RandomizedSearchCV\n",
        "from sklearn.pipeline import Pipeline\n",
        "from sklearn.multiclass import OneVsRestClassifier\n",
        "from sklearn.linear_model import LogisticRegression\n",
        "import xgboost as xgb\n",
        "from sklearn.metrics import f1_score, roc_auc_score, accuracy_score, classification_report, recall_score, accuracy_score,roc_curve, auc, confusion_matrix\n",
        "from sklearn.ensemble import RandomForestClassifier, GradientBoostingClassifier\n",
        "from sklearn.tree import DecisionTreeClassifier\n",
        "from sklearn.naive_bayes import MultinomialNB\n",
        "from sklearn.neighbors import KNeighborsClassifier\n",
        "from sklearn.neural_network import MLPClassifier\n",
        "import spacy\n",
        "from spacy.cli import download\n",
        "import re\n",
        "import nltk\n",
        "from nltk.corpus import stopwords\n",
        "from nltk.stem import WordNetLemmatizer\n",
        "from nltk.tokenize import word_tokenize\n",
        "from joblib import dump, load\n",
        "from google.colab import drive\n",
        "import seaborn as sns\n",
        "import matplotlib.pyplot as plt\n",
        "from scipy.stats import kde\n",
        "import warnings\n",
        "warnings.filterwarnings(\"ignore\")\n",
        "from collections import Counter\n",
        "drive.mount('/content/drive')"
      ]
    },
    {
      "cell_type": "code",
      "execution_count": 2,
      "metadata": {
        "colab": {
          "base_uri": "https://localhost:8080/"
        },
        "id": "67roPUrc6QLi",
        "outputId": "803fee80-c5ca-4364-cf52-6d587cb08d68"
      },
      "outputs": [
        {
          "name": "stderr",
          "output_type": "stream",
          "text": [
            "[nltk_data] Downloading package stopwords to /root/nltk_data...\n",
            "[nltk_data]   Unzipping corpora/stopwords.zip.\n",
            "[nltk_data] Downloading package wordnet to /root/nltk_data...\n",
            "[nltk_data] Downloading package punkt to /root/nltk_data...\n",
            "[nltk_data]   Unzipping tokenizers/punkt.zip.\n"
          ]
        },
        {
          "name": "stdout",
          "output_type": "stream",
          "text": [
            "\u001b[38;5;2m✔ Download and installation successful\u001b[0m\n",
            "You can now load the package via spacy.load('es_core_news_sm')\n"
          ]
        }
      ],
      "source": [
        "# Asegurarse de que NLTK esté instalado y descargue los recursos necesarios\n",
        "nltk.download('stopwords')\n",
        "nltk.download('wordnet')\n",
        "nltk.download('punkt')\n",
        "# Cargar el modelo de lenguaje preentrenado en español\n",
        "download('es_core_news_sm')"
      ]
    },
    {
      "cell_type": "markdown",
      "metadata": {
        "id": "BIN_YOReu4uH"
      },
      "source": [
        "## Cargar datasets\n",
        "\n"
      ]
    },
    {
      "cell_type": "code",
      "execution_count": 3,
      "metadata": {
        "colab": {
          "base_uri": "https://localhost:8080/",
          "height": 235
        },
        "id": "xN0ADXDmv0MK",
        "outputId": "a8de6fc6-2b22-4403-cbc0-0faceb6128af"
      },
      "outputs": [
        {
          "data": {
            "text/html": [
              "\n",
              "  <div id=\"df-9321fc3d-6ad4-46e3-8264-a39735b38cce\">\n",
              "    <div class=\"colab-df-container\">\n",
              "      <div>\n",
              "<style scoped>\n",
              "    .dataframe tbody tr th:only-of-type {\n",
              "        vertical-align: middle;\n",
              "    }\n",
              "\n",
              "    .dataframe tbody tr th {\n",
              "        vertical-align: top;\n",
              "    }\n",
              "\n",
              "    .dataframe thead th {\n",
              "        text-align: right;\n",
              "    }\n",
              "</style>\n",
              "<table border=\"1\" class=\"dataframe\">\n",
              "  <thead>\n",
              "    <tr style=\"text-align: right;\">\n",
              "      <th></th>\n",
              "      <th>description</th>\n",
              "      <th>030</th>\n",
              "      <th>031</th>\n",
              "      <th>032</th>\n",
              "      <th>033</th>\n",
              "      <th>034</th>\n",
              "      <th>090</th>\n",
              "      <th>091</th>\n",
              "      <th>092</th>\n",
              "      <th>093</th>\n",
              "      <th>...</th>\n",
              "      <th>924</th>\n",
              "      <th>925</th>\n",
              "      <th>926</th>\n",
              "      <th>927</th>\n",
              "      <th>980</th>\n",
              "      <th>981</th>\n",
              "      <th>982</th>\n",
              "      <th>983</th>\n",
              "      <th>985</th>\n",
              "      <th>989</th>\n",
              "    </tr>\n",
              "  </thead>\n",
              "  <tbody>\n",
              "    <tr>\n",
              "      <th>0</th>\n",
              "      <td>Contratación de la ruta 3701726 de transporte ...</td>\n",
              "      <td>0</td>\n",
              "      <td>0</td>\n",
              "      <td>0</td>\n",
              "      <td>0</td>\n",
              "      <td>0</td>\n",
              "      <td>0</td>\n",
              "      <td>0</td>\n",
              "      <td>0</td>\n",
              "      <td>0</td>\n",
              "      <td>...</td>\n",
              "      <td>0</td>\n",
              "      <td>0</td>\n",
              "      <td>0</td>\n",
              "      <td>0</td>\n",
              "      <td>0</td>\n",
              "      <td>0</td>\n",
              "      <td>0</td>\n",
              "      <td>0</td>\n",
              "      <td>0</td>\n",
              "      <td>0</td>\n",
              "    </tr>\n",
              "    <tr>\n",
              "      <th>1</th>\n",
              "      <td>Servicio de montaje y desmontaje de la exposic...</td>\n",
              "      <td>0</td>\n",
              "      <td>0</td>\n",
              "      <td>0</td>\n",
              "      <td>0</td>\n",
              "      <td>0</td>\n",
              "      <td>0</td>\n",
              "      <td>0</td>\n",
              "      <td>0</td>\n",
              "      <td>0</td>\n",
              "      <td>...</td>\n",
              "      <td>0</td>\n",
              "      <td>0</td>\n",
              "      <td>0</td>\n",
              "      <td>0</td>\n",
              "      <td>0</td>\n",
              "      <td>0</td>\n",
              "      <td>0</td>\n",
              "      <td>0</td>\n",
              "      <td>0</td>\n",
              "      <td>0</td>\n",
              "    </tr>\n",
              "    <tr>\n",
              "      <th>2</th>\n",
              "      <td>Prestación de los servicios de realización, pr...</td>\n",
              "      <td>0</td>\n",
              "      <td>0</td>\n",
              "      <td>0</td>\n",
              "      <td>0</td>\n",
              "      <td>0</td>\n",
              "      <td>0</td>\n",
              "      <td>0</td>\n",
              "      <td>0</td>\n",
              "      <td>0</td>\n",
              "      <td>...</td>\n",
              "      <td>0</td>\n",
              "      <td>0</td>\n",
              "      <td>0</td>\n",
              "      <td>0</td>\n",
              "      <td>0</td>\n",
              "      <td>0</td>\n",
              "      <td>0</td>\n",
              "      <td>0</td>\n",
              "      <td>0</td>\n",
              "      <td>0</td>\n",
              "    </tr>\n",
              "    <tr>\n",
              "      <th>3</th>\n",
              "      <td>Canalizaciones fibra óptica / telecomunicacion...</td>\n",
              "      <td>0</td>\n",
              "      <td>0</td>\n",
              "      <td>0</td>\n",
              "      <td>0</td>\n",
              "      <td>0</td>\n",
              "      <td>0</td>\n",
              "      <td>0</td>\n",
              "      <td>0</td>\n",
              "      <td>0</td>\n",
              "      <td>...</td>\n",
              "      <td>0</td>\n",
              "      <td>0</td>\n",
              "      <td>0</td>\n",
              "      <td>0</td>\n",
              "      <td>0</td>\n",
              "      <td>0</td>\n",
              "      <td>0</td>\n",
              "      <td>0</td>\n",
              "      <td>0</td>\n",
              "      <td>0</td>\n",
              "    </tr>\n",
              "    <tr>\n",
              "      <th>4</th>\n",
              "      <td>Acuerdo Marco de suministro de combustible gas...</td>\n",
              "      <td>0</td>\n",
              "      <td>0</td>\n",
              "      <td>0</td>\n",
              "      <td>0</td>\n",
              "      <td>0</td>\n",
              "      <td>0</td>\n",
              "      <td>1</td>\n",
              "      <td>0</td>\n",
              "      <td>0</td>\n",
              "      <td>...</td>\n",
              "      <td>0</td>\n",
              "      <td>0</td>\n",
              "      <td>0</td>\n",
              "      <td>0</td>\n",
              "      <td>0</td>\n",
              "      <td>0</td>\n",
              "      <td>0</td>\n",
              "      <td>0</td>\n",
              "      <td>0</td>\n",
              "      <td>0</td>\n",
              "    </tr>\n",
              "  </tbody>\n",
              "</table>\n",
              "<p>5 rows × 318 columns</p>\n",
              "</div>\n",
              "      <button class=\"colab-df-convert\" onclick=\"convertToInteractive('df-9321fc3d-6ad4-46e3-8264-a39735b38cce')\"\n",
              "              title=\"Convert this dataframe to an interactive table.\"\n",
              "              style=\"display:none;\">\n",
              "        \n",
              "  <svg xmlns=\"http://www.w3.org/2000/svg\" height=\"24px\"viewBox=\"0 0 24 24\"\n",
              "       width=\"24px\">\n",
              "    <path d=\"M0 0h24v24H0V0z\" fill=\"none\"/>\n",
              "    <path d=\"M18.56 5.44l.94 2.06.94-2.06 2.06-.94-2.06-.94-.94-2.06-.94 2.06-2.06.94zm-11 1L8.5 8.5l.94-2.06 2.06-.94-2.06-.94L8.5 2.5l-.94 2.06-2.06.94zm10 10l.94 2.06.94-2.06 2.06-.94-2.06-.94-.94-2.06-.94 2.06-2.06.94z\"/><path d=\"M17.41 7.96l-1.37-1.37c-.4-.4-.92-.59-1.43-.59-.52 0-1.04.2-1.43.59L10.3 9.45l-7.72 7.72c-.78.78-.78 2.05 0 2.83L4 21.41c.39.39.9.59 1.41.59.51 0 1.02-.2 1.41-.59l7.78-7.78 2.81-2.81c.8-.78.8-2.07 0-2.86zM5.41 20L4 18.59l7.72-7.72 1.47 1.35L5.41 20z\"/>\n",
              "  </svg>\n",
              "      </button>\n",
              "      \n",
              "  <style>\n",
              "    .colab-df-container {\n",
              "      display:flex;\n",
              "      flex-wrap:wrap;\n",
              "      gap: 12px;\n",
              "    }\n",
              "\n",
              "    .colab-df-convert {\n",
              "      background-color: #E8F0FE;\n",
              "      border: none;\n",
              "      border-radius: 50%;\n",
              "      cursor: pointer;\n",
              "      display: none;\n",
              "      fill: #1967D2;\n",
              "      height: 32px;\n",
              "      padding: 0 0 0 0;\n",
              "      width: 32px;\n",
              "    }\n",
              "\n",
              "    .colab-df-convert:hover {\n",
              "      background-color: #E2EBFA;\n",
              "      box-shadow: 0px 1px 2px rgba(60, 64, 67, 0.3), 0px 1px 3px 1px rgba(60, 64, 67, 0.15);\n",
              "      fill: #174EA6;\n",
              "    }\n",
              "\n",
              "    [theme=dark] .colab-df-convert {\n",
              "      background-color: #3B4455;\n",
              "      fill: #D2E3FC;\n",
              "    }\n",
              "\n",
              "    [theme=dark] .colab-df-convert:hover {\n",
              "      background-color: #434B5C;\n",
              "      box-shadow: 0px 1px 3px 1px rgba(0, 0, 0, 0.15);\n",
              "      filter: drop-shadow(0px 1px 2px rgba(0, 0, 0, 0.3));\n",
              "      fill: #FFFFFF;\n",
              "    }\n",
              "  </style>\n",
              "\n",
              "      <script>\n",
              "        const buttonEl =\n",
              "          document.querySelector('#df-9321fc3d-6ad4-46e3-8264-a39735b38cce button.colab-df-convert');\n",
              "        buttonEl.style.display =\n",
              "          google.colab.kernel.accessAllowed ? 'block' : 'none';\n",
              "\n",
              "        async function convertToInteractive(key) {\n",
              "          const element = document.querySelector('#df-9321fc3d-6ad4-46e3-8264-a39735b38cce');\n",
              "          const dataTable =\n",
              "            await google.colab.kernel.invokeFunction('convertToInteractive',\n",
              "                                                     [key], {});\n",
              "          if (!dataTable) return;\n",
              "\n",
              "          const docLinkHtml = 'Like what you see? Visit the ' +\n",
              "            '<a target=\"_blank\" href=https://colab.research.google.com/notebooks/data_table.ipynb>data table notebook</a>'\n",
              "            + ' to learn more about interactive tables.';\n",
              "          element.innerHTML = '';\n",
              "          dataTable['output_type'] = 'display_data';\n",
              "          await google.colab.output.renderOutput(dataTable, element);\n",
              "          const docLink = document.createElement('div');\n",
              "          docLink.innerHTML = docLinkHtml;\n",
              "          element.appendChild(docLink);\n",
              "        }\n",
              "      </script>\n",
              "    </div>\n",
              "  </div>\n",
              "  "
            ],
            "text/plain": [
              "                                         description  030  031  032  033  034  \\\n",
              "0  Contratación de la ruta 3701726 de transporte ...    0    0    0    0    0   \n",
              "1  Servicio de montaje y desmontaje de la exposic...    0    0    0    0    0   \n",
              "2  Prestación de los servicios de realización, pr...    0    0    0    0    0   \n",
              "3  Canalizaciones fibra óptica / telecomunicacion...    0    0    0    0    0   \n",
              "4  Acuerdo Marco de suministro de combustible gas...    0    0    0    0    0   \n",
              "\n",
              "   090  091  092  093  ...  924  925  926  927  980  981  982  983  985  989  \n",
              "0    0    0    0    0  ...    0    0    0    0    0    0    0    0    0    0  \n",
              "1    0    0    0    0  ...    0    0    0    0    0    0    0    0    0    0  \n",
              "2    0    0    0    0  ...    0    0    0    0    0    0    0    0    0    0  \n",
              "3    0    0    0    0  ...    0    0    0    0    0    0    0    0    0    0  \n",
              "4    0    1    0    0  ...    0    0    0    0    0    0    0    0    0    0  \n",
              "\n",
              "[5 rows x 318 columns]"
            ]
          },
          "execution_count": 3,
          "metadata": {},
          "output_type": "execute_result"
        }
      ],
      "source": [
        "import pandas as pd\n",
        "\n",
        "## Dataset con 2 dígitos\n",
        "''' df = pd.read_csv('https://raw.githubusercontent.com/mnavasloro/CPVClassifier/main/data/dataset/train.csv')\n",
        "dftest = pd.read_csv('https://raw.githubusercontent.com/mnavasloro/CPVClassifier/main/data/dataset/test.csv')\n",
        "\n",
        "df.pop('Unnamed: 0')\n",
        "dftest.pop('Unnamed: 0') '''\n",
        "\n",
        "#Dataset con 3 dígitos\n",
        "# Leer los datasets\n",
        "''' df = pd.read_csv('https://raw.githubusercontent.com/mnavasloro/CPVClassifier/main/data/data3/3digits_train.csv')\n",
        "dftest = pd.read_csv('https://raw.githubusercontent.com/mnavasloro/CPVClassifier/main/data/data3/3digits_test.csv') '''\n",
        "df = pd.read_csv(\"ruta\")\n",
        "dftest = pd.read_csv(\"ruta\")\n",
        "\n",
        "df.pop('cpv')\n",
        "#dftest.pop('CPV')\n",
        "\n",
        "df.head()"
      ]
    },
    {
      "cell_type": "markdown",
      "metadata": {
        "id": "Xkgp0Enn8k0i"
      },
      "source": [
        "## Prueba individual de 2 dígitos"
      ]
    },
    {
      "cell_type": "code",
      "execution_count": 4,
      "metadata": {
        "id": "WT5bSoG3ADLG"
      },
      "outputs": [],
      "source": [
        "twodig = '60'\n",
        "columns = df.columns.str.startswith(twodig) #Cogemos las columnas que empiezan por los dos primeros digitos que queremos"
      ]
    },
    {
      "cell_type": "code",
      "execution_count": 5,
      "metadata": {
        "id": "9D5MA8gYA5Lm"
      },
      "outputs": [],
      "source": [
        "columns[0]= True #También queremos la descripcion, asi que la primera columna tambien la ponemos a True. Para el otro dataset columns[0]\n",
        "df_03 = df.loc[:,columns] #Nos quedamos con las columnas seleccionadas\n",
        "df_03 = df_03[df_03[list(df_03.columns[1:].values)].any(axis='columns')] #Nos quedamos solo las filas que tengan algún 1"
      ]
    },
    {
      "cell_type": "code",
      "execution_count": 6,
      "metadata": {
        "colab": {
          "base_uri": "https://localhost:8080/",
          "height": 206
        },
        "id": "8jRVKN_UcMLR",
        "outputId": "d0ae5872-4336-447b-ddac-ff56abf24358"
      },
      "outputs": [
        {
          "data": {
            "text/html": [
              "\n",
              "  <div id=\"df-2fdba9f3-085d-40a9-84ac-d9ae3d4b4edb\">\n",
              "    <div class=\"colab-df-container\">\n",
              "      <div>\n",
              "<style scoped>\n",
              "    .dataframe tbody tr th:only-of-type {\n",
              "        vertical-align: middle;\n",
              "    }\n",
              "\n",
              "    .dataframe tbody tr th {\n",
              "        vertical-align: top;\n",
              "    }\n",
              "\n",
              "    .dataframe thead th {\n",
              "        text-align: right;\n",
              "    }\n",
              "</style>\n",
              "<table border=\"1\" class=\"dataframe\">\n",
              "  <thead>\n",
              "    <tr style=\"text-align: right;\">\n",
              "      <th></th>\n",
              "      <th>description</th>\n",
              "      <th>600</th>\n",
              "      <th>601</th>\n",
              "      <th>602</th>\n",
              "      <th>603</th>\n",
              "      <th>604</th>\n",
              "      <th>605</th>\n",
              "      <th>606</th>\n",
              "    </tr>\n",
              "  </thead>\n",
              "  <tbody>\n",
              "    <tr>\n",
              "      <th>0</th>\n",
              "      <td>Contratación de la ruta 3701726 de transporte ...</td>\n",
              "      <td>0</td>\n",
              "      <td>1</td>\n",
              "      <td>0</td>\n",
              "      <td>0</td>\n",
              "      <td>0</td>\n",
              "      <td>0</td>\n",
              "      <td>0</td>\n",
              "    </tr>\n",
              "    <tr>\n",
              "      <th>12</th>\n",
              "      <td>Servicios de envíos de paquetería</td>\n",
              "      <td>0</td>\n",
              "      <td>1</td>\n",
              "      <td>0</td>\n",
              "      <td>0</td>\n",
              "      <td>0</td>\n",
              "      <td>0</td>\n",
              "      <td>0</td>\n",
              "    </tr>\n",
              "    <tr>\n",
              "      <th>69</th>\n",
              "      <td>Ruta transporte escolar CC098. Categoría A.</td>\n",
              "      <td>0</td>\n",
              "      <td>1</td>\n",
              "      <td>0</td>\n",
              "      <td>0</td>\n",
              "      <td>0</td>\n",
              "      <td>0</td>\n",
              "      <td>0</td>\n",
              "    </tr>\n",
              "    <tr>\n",
              "      <th>114</th>\n",
              "      <td>Contratación de Conducción Extraordinaria de T...</td>\n",
              "      <td>0</td>\n",
              "      <td>1</td>\n",
              "      <td>0</td>\n",
              "      <td>0</td>\n",
              "      <td>0</td>\n",
              "      <td>0</td>\n",
              "      <td>0</td>\n",
              "    </tr>\n",
              "    <tr>\n",
              "      <th>257</th>\n",
              "      <td>supersimplificado ruta 225 S toledo curso 2021...</td>\n",
              "      <td>0</td>\n",
              "      <td>1</td>\n",
              "      <td>0</td>\n",
              "      <td>0</td>\n",
              "      <td>0</td>\n",
              "      <td>0</td>\n",
              "      <td>0</td>\n",
              "    </tr>\n",
              "  </tbody>\n",
              "</table>\n",
              "</div>\n",
              "      <button class=\"colab-df-convert\" onclick=\"convertToInteractive('df-2fdba9f3-085d-40a9-84ac-d9ae3d4b4edb')\"\n",
              "              title=\"Convert this dataframe to an interactive table.\"\n",
              "              style=\"display:none;\">\n",
              "        \n",
              "  <svg xmlns=\"http://www.w3.org/2000/svg\" height=\"24px\"viewBox=\"0 0 24 24\"\n",
              "       width=\"24px\">\n",
              "    <path d=\"M0 0h24v24H0V0z\" fill=\"none\"/>\n",
              "    <path d=\"M18.56 5.44l.94 2.06.94-2.06 2.06-.94-2.06-.94-.94-2.06-.94 2.06-2.06.94zm-11 1L8.5 8.5l.94-2.06 2.06-.94-2.06-.94L8.5 2.5l-.94 2.06-2.06.94zm10 10l.94 2.06.94-2.06 2.06-.94-2.06-.94-.94-2.06-.94 2.06-2.06.94z\"/><path d=\"M17.41 7.96l-1.37-1.37c-.4-.4-.92-.59-1.43-.59-.52 0-1.04.2-1.43.59L10.3 9.45l-7.72 7.72c-.78.78-.78 2.05 0 2.83L4 21.41c.39.39.9.59 1.41.59.51 0 1.02-.2 1.41-.59l7.78-7.78 2.81-2.81c.8-.78.8-2.07 0-2.86zM5.41 20L4 18.59l7.72-7.72 1.47 1.35L5.41 20z\"/>\n",
              "  </svg>\n",
              "      </button>\n",
              "      \n",
              "  <style>\n",
              "    .colab-df-container {\n",
              "      display:flex;\n",
              "      flex-wrap:wrap;\n",
              "      gap: 12px;\n",
              "    }\n",
              "\n",
              "    .colab-df-convert {\n",
              "      background-color: #E8F0FE;\n",
              "      border: none;\n",
              "      border-radius: 50%;\n",
              "      cursor: pointer;\n",
              "      display: none;\n",
              "      fill: #1967D2;\n",
              "      height: 32px;\n",
              "      padding: 0 0 0 0;\n",
              "      width: 32px;\n",
              "    }\n",
              "\n",
              "    .colab-df-convert:hover {\n",
              "      background-color: #E2EBFA;\n",
              "      box-shadow: 0px 1px 2px rgba(60, 64, 67, 0.3), 0px 1px 3px 1px rgba(60, 64, 67, 0.15);\n",
              "      fill: #174EA6;\n",
              "    }\n",
              "\n",
              "    [theme=dark] .colab-df-convert {\n",
              "      background-color: #3B4455;\n",
              "      fill: #D2E3FC;\n",
              "    }\n",
              "\n",
              "    [theme=dark] .colab-df-convert:hover {\n",
              "      background-color: #434B5C;\n",
              "      box-shadow: 0px 1px 3px 1px rgba(0, 0, 0, 0.15);\n",
              "      filter: drop-shadow(0px 1px 2px rgba(0, 0, 0, 0.3));\n",
              "      fill: #FFFFFF;\n",
              "    }\n",
              "  </style>\n",
              "\n",
              "      <script>\n",
              "        const buttonEl =\n",
              "          document.querySelector('#df-2fdba9f3-085d-40a9-84ac-d9ae3d4b4edb button.colab-df-convert');\n",
              "        buttonEl.style.display =\n",
              "          google.colab.kernel.accessAllowed ? 'block' : 'none';\n",
              "\n",
              "        async function convertToInteractive(key) {\n",
              "          const element = document.querySelector('#df-2fdba9f3-085d-40a9-84ac-d9ae3d4b4edb');\n",
              "          const dataTable =\n",
              "            await google.colab.kernel.invokeFunction('convertToInteractive',\n",
              "                                                     [key], {});\n",
              "          if (!dataTable) return;\n",
              "\n",
              "          const docLinkHtml = 'Like what you see? Visit the ' +\n",
              "            '<a target=\"_blank\" href=https://colab.research.google.com/notebooks/data_table.ipynb>data table notebook</a>'\n",
              "            + ' to learn more about interactive tables.';\n",
              "          element.innerHTML = '';\n",
              "          dataTable['output_type'] = 'display_data';\n",
              "          await google.colab.output.renderOutput(dataTable, element);\n",
              "          const docLink = document.createElement('div');\n",
              "          docLink.innerHTML = docLinkHtml;\n",
              "          element.appendChild(docLink);\n",
              "        }\n",
              "      </script>\n",
              "    </div>\n",
              "  </div>\n",
              "  "
            ],
            "text/plain": [
              "                                           description  600  601  602  603  \\\n",
              "0    Contratación de la ruta 3701726 de transporte ...    0    1    0    0   \n",
              "12                   Servicios de envíos de paquetería    0    1    0    0   \n",
              "69         Ruta transporte escolar CC098. Categoría A.    0    1    0    0   \n",
              "114  Contratación de Conducción Extraordinaria de T...    0    1    0    0   \n",
              "257  supersimplificado ruta 225 S toledo curso 2021...    0    1    0    0   \n",
              "\n",
              "     604  605  606  \n",
              "0      0    0    0  \n",
              "12     0    0    0  \n",
              "69     0    0    0  \n",
              "114    0    0    0  \n",
              "257    0    0    0  "
            ]
          },
          "execution_count": 6,
          "metadata": {},
          "output_type": "execute_result"
        }
      ],
      "source": [
        "df_03.head()"
      ]
    },
    {
      "cell_type": "code",
      "execution_count": null,
      "metadata": {
        "id": "doqI6S14iusB"
      },
      "outputs": [],
      "source": [
        "#Saber cuantos 1 tiene alguna clase\n",
        "df_03[\"603\"].value_counts()"
      ]
    },
    {
      "cell_type": "code",
      "execution_count": 7,
      "metadata": {
        "colab": {
          "base_uri": "https://localhost:8080/",
          "height": 36
        },
        "id": "baucLQn4Rhcg",
        "outputId": "316876ae-938d-4505-842e-37c071fef9cd"
      },
      "outputs": [
        {
          "data": {
            "application/vnd.google.colaboratory.intrinsic+json": {
              "type": "string"
            },
            "text/plain": [
              "'Contratación de Conducción Extraordinaria de Transporte del Correo en La Zona 4, Madrid Uses Apoyo a Centro y Unidades (6 lotes).'"
            ]
          },
          "execution_count": 7,
          "metadata": {},
          "output_type": "execute_result"
        }
      ],
      "source": [
        "df.iloc[114].description"
      ]
    },
    {
      "cell_type": "code",
      "execution_count": 8,
      "metadata": {
        "id": "SXDq2gFYEkQY"
      },
      "outputs": [],
      "source": [
        "# Crear una lista para almacenar las descripciones y los dos primeros dígitos de las columnas numéricas\n",
        "X = []\n",
        "# Crear una lista para almacenar el tercer dígito de las columnas numéricas\n",
        "y = []\n",
        "\n",
        "# Iterar sobre las filas del DataFrame\n",
        "for index, row in df_03.iterrows():\n",
        "    descripcion = row['description']\n",
        "\n",
        "    # Iterar sobre las columnas numéricas (ignorar la columna 'descripcion')\n",
        "    for col in df_03.columns[1:]:\n",
        "        if row[col] == 1:\n",
        "            two_digits = col[:2]\n",
        "            third_digit = col[2]\n",
        "\n",
        "            # Almacenar la descripción y los dos primeros dígitos en X\n",
        "            X.append((descripcion, two_digits))\n",
        "\n",
        "            # Almacenar el tercer dígito en y\n",
        "            y.append(third_digit)"
      ]
    },
    {
      "cell_type": "code",
      "execution_count": 9,
      "metadata": {
        "id": "SGWmHZfFEkLb"
      },
      "outputs": [],
      "source": [
        "# Convertir las listas en DataFrames\n",
        "X = pd.DataFrame(X, columns=['description', 'two_digits'])\n",
        "y = pd.DataFrame(y, columns=['third_digit'])"
      ]
    },
    {
      "cell_type": "code",
      "execution_count": 10,
      "metadata": {
        "id": "2oMW6T7p0HMR"
      },
      "outputs": [],
      "source": [
        "# Cargar el modelo en español de spaCy\n",
        "nlp = spacy.load('es_core_news_sm')\n",
        "# Función para procesar las descripciones utilizando técnicas de NLP\n",
        "def preprocess_text(text):\n",
        "    # Lowercasing, procesar el texto y crear un objeto Doc\n",
        "    doc = nlp(text.lower())\n",
        "\n",
        "    # Noise removal and lemmatization\n",
        "    words = [token.lemma_ for token in doc if not token.is_punct]\n",
        "\n",
        "    # Stop word removal\n",
        "    words = [word for word in words if word not in nlp.Defaults.stop_words]\n",
        "\n",
        "    # Rejoin words\n",
        "    text = ' '.join(words)\n",
        "\n",
        "    return text\n"
      ]
    },
    {
      "cell_type": "code",
      "execution_count": 11,
      "metadata": {
        "id": "WS_lRsak2Zt9"
      },
      "outputs": [],
      "source": [
        "# Aplicar la función de preprocesamiento a cada descripción en el DataFrame\n",
        "X['description'] = X['description'].apply(preprocess_text)"
      ]
    },
    {
      "cell_type": "code",
      "execution_count": 12,
      "metadata": {
        "id": "9a8JDCg8Kb2k"
      },
      "outputs": [],
      "source": [
        "# Dividir los datos en conjuntos de entrenamiento y prueba\n",
        "X_train, X_test, y_train, y_test = train_test_split(X, y, test_size=0.2, random_state=42)"
      ]
    },
    {
      "cell_type": "code",
      "execution_count": 13,
      "metadata": {
        "id": "hpGNKspLKhIU"
      },
      "outputs": [],
      "source": [
        "# Crear un vectorizador TF-IDF para transformar la descripción\n",
        "#vectorizer = TfidfVectorizer(stop_words='english', max_features=1000)\n",
        "vectorizer = TfidfVectorizer(max_features=1000)\n",
        "\n",
        "# Entrenar el vectorizador en los datos de entrenamiento\n",
        "X_train_tfidf = vectorizer.fit_transform(X_train['description'])\n",
        "\n",
        "# Aplicar el vectorizador a los datos de prueba\n",
        "X_test_tfidf = vectorizer.transform(X_test['description'])"
      ]
    },
    {
      "cell_type": "code",
      "execution_count": 14,
      "metadata": {
        "colab": {
          "base_uri": "https://localhost:8080/",
          "height": 70
        },
        "id": "4cMzT1HKKhCl",
        "outputId": "3fcad392-911b-4de7-d947-bea36e32ebe6"
      },
      "outputs": [
        {
          "data": {
            "application/vnd.google.colaboratory.intrinsic+json": {
              "type": "string"
            },
            "text/plain": [
              "\"param_dist = {\\n    'clf__C': [0.1, 1, 10, 100],\\n    'clf__gamma': ['scale', 'auto'],\\n    'clf__kernel': ['linear', 'rbf', 'poly', 'sigmoid'],\\n    'clf__degree': [2, 3, 4]  # Ignorado por todos los kernels excepto 'poly'\\n}\\n\\n# Inicializar RandomizedSearchCV\\nrandom_search = RandomizedSearchCV(\\n    pipeline,\\n    param_distributions=param_dist,\\n    n_iter=10,\\n    cv=3,\\n    verbose=1,\\n    random_state=42,\\n    n_jobs=-1\\n)\""
            ]
          },
          "execution_count": 14,
          "metadata": {},
          "output_type": "execute_result"
        }
      ],
      "source": [
        "#Prueba con Random Forest\n",
        "clf = RandomForestClassifier(random_state=42)\n",
        "\n",
        "#Prueba con Decision Tree\n",
        "#clf = DecisionTreeClassifier(random_state=42)\n",
        "\n",
        "# Crear un clasificador Naive Bayes\n",
        "#clf = MultinomialNB()\n",
        "\n",
        "# Crear un clasificador k-vecinos más cercanos\n",
        "#clf = KNeighborsClassifier(n_neighbors=3)\n",
        "\n",
        "# Crear un clasificador Gradient Boosting\n",
        "#clf = GradientBoostingClassifier(random_state=42)\n",
        "\n",
        "#Prueba con SVM\n",
        "#clf = SVC(random_state=42)\n",
        "\n",
        "# Crear un pipeline para el clasificador\n",
        "pipeline = Pipeline([\n",
        "    ('clf', clf)\n",
        "])\n",
        "\n",
        "#------------Hiperparametros------------\n",
        "\n",
        "#------------Para RandomForest----------\n",
        "# Definir los parámetros a buscar\n",
        "param_dist = {\n",
        "        \"clf__n_estimators\": [100, 200, 300, 400, 500],\n",
        "        \"clf__max_depth\": [10, 20, 30, 40, 50, None],\n",
        "        \"clf__min_samples_split\": [2, 5, 10, 15],\n",
        "        \"clf__min_samples_leaf\": [1, 2, 5, 10],\n",
        "    }\n",
        "\n",
        "# Inicializa RandomizedSearchCV\n",
        "random_search = RandomizedSearchCV(\n",
        "        estimator=pipeline,\n",
        "        param_distributions=param_dist,\n",
        "        n_iter=10,\n",
        "        cv=3,\n",
        "        scoring=\"accuracy\",\n",
        "        random_state=42,\n",
        ")\n",
        "#-----------Para DecisionTree-----------\n",
        "# Definir los hiperparámetros\n",
        "''' param_dist = {\n",
        "    'clf__criterion': ['gini', 'entropy'],\n",
        "    'clf__max_depth': np.arange(1, 20),\n",
        "    'clf__min_samples_split': np.arange(2, 20),\n",
        "    'clf__min_samples_leaf': np.arange(1, 20),\n",
        "}\n",
        "\n",
        "# Inicializa RandomizedSearchCV\n",
        "random_search = RandomizedSearchCV(\n",
        "    pipeline,\n",
        "    param_distributions=param_dist,\n",
        "    n_iter=100,\n",
        "    cv=5,\n",
        "    verbose=1,\n",
        "    random_state=42,\n",
        "    n_jobs=-1\n",
        ") '''\n",
        "\n",
        "#-----------Para MultinominalNB-----------\n",
        "# Define los hiperparámetros\n",
        "''' param_dist = {\n",
        "    'clf__alpha': np.linspace(0.5, 1.5, 6),\n",
        "    'clf__fit_prior': [True, False],\n",
        "}\n",
        "\n",
        "# Inicializa RandomizedSearchCV\n",
        "random_search = RandomizedSearchCV(\n",
        "    pipeline,\n",
        "    param_distributions=param_dist,\n",
        "    n_iter=100,\n",
        "    cv=5,\n",
        "    verbose=1,\n",
        "    random_state=42,\n",
        "    n_jobs=-1\n",
        ") '''\n",
        "\n",
        "#-----------Para GradientBoosting----------\n",
        "# Define los hiperparámetros y las distribuciones para muestrear\n",
        "''' param_dist = {\n",
        "    'clf__n_estimators': [100, 200, 300, 400, 500],\n",
        "    'clf__learning_rate': [0.01, 0.1, 0.2, 0.3, 0.4, 0.5],\n",
        "    'clf__max_depth': np.arange(1, 10),\n",
        "    'clf__min_samples_split': np.arange(2, 10),\n",
        "    'clf__min_samples_leaf': np.arange(1, 10),\n",
        "}\n",
        "\n",
        "# Inicializa RandomizedSearchCV\n",
        "random_search = RandomizedSearchCV(\n",
        "    pipeline,\n",
        "    param_distributions=param_dist,\n",
        "    n_iter=100,\n",
        "    cv=5,\n",
        "    verbose=1,\n",
        "    random_state=42,\n",
        "    n_jobs=-1\n",
        ") '''\n",
        "\n",
        "#-----------Para SVM----------\n",
        "# Definir los hiperparámetros\n",
        "'''param_dist = {\n",
        "    'clf__C': [0.1, 1, 10, 100],\n",
        "    'clf__gamma': ['scale', 'auto'],\n",
        "    'clf__kernel': ['linear', 'rbf', 'poly', 'sigmoid'],\n",
        "    'clf__degree': [2, 3, 4]  # Ignorado por todos los kernels excepto 'poly'\n",
        "}\n",
        "\n",
        "# Inicializar RandomizedSearchCV\n",
        "random_search = RandomizedSearchCV(\n",
        "    pipeline,\n",
        "    param_distributions=param_dist,\n",
        "    n_iter=10,\n",
        "    cv=3,\n",
        "    verbose=1,\n",
        "    random_state=42,\n",
        "    n_jobs=-1\n",
        ")'''\n",
        "\n"
      ]
    },
    {
      "cell_type": "code",
      "execution_count": 15,
      "metadata": {
        "colab": {
          "base_uri": "https://localhost:8080/",
          "height": 117
        },
        "id": "C9AevGCZKt1D",
        "outputId": "86559d29-0114-4c7f-8b7b-71649363648f"
      },
      "outputs": [
        {
          "data": {
            "text/html": [
              "<style>#sk-container-id-1 {color: black;background-color: white;}#sk-container-id-1 pre{padding: 0;}#sk-container-id-1 div.sk-toggleable {background-color: white;}#sk-container-id-1 label.sk-toggleable__label {cursor: pointer;display: block;width: 100%;margin-bottom: 0;padding: 0.3em;box-sizing: border-box;text-align: center;}#sk-container-id-1 label.sk-toggleable__label-arrow:before {content: \"▸\";float: left;margin-right: 0.25em;color: #696969;}#sk-container-id-1 label.sk-toggleable__label-arrow:hover:before {color: black;}#sk-container-id-1 div.sk-estimator:hover label.sk-toggleable__label-arrow:before {color: black;}#sk-container-id-1 div.sk-toggleable__content {max-height: 0;max-width: 0;overflow: hidden;text-align: left;background-color: #f0f8ff;}#sk-container-id-1 div.sk-toggleable__content pre {margin: 0.2em;color: black;border-radius: 0.25em;background-color: #f0f8ff;}#sk-container-id-1 input.sk-toggleable__control:checked~div.sk-toggleable__content {max-height: 200px;max-width: 100%;overflow: auto;}#sk-container-id-1 input.sk-toggleable__control:checked~label.sk-toggleable__label-arrow:before {content: \"▾\";}#sk-container-id-1 div.sk-estimator input.sk-toggleable__control:checked~label.sk-toggleable__label {background-color: #d4ebff;}#sk-container-id-1 div.sk-label input.sk-toggleable__control:checked~label.sk-toggleable__label {background-color: #d4ebff;}#sk-container-id-1 input.sk-hidden--visually {border: 0;clip: rect(1px 1px 1px 1px);clip: rect(1px, 1px, 1px, 1px);height: 1px;margin: -1px;overflow: hidden;padding: 0;position: absolute;width: 1px;}#sk-container-id-1 div.sk-estimator {font-family: monospace;background-color: #f0f8ff;border: 1px dotted black;border-radius: 0.25em;box-sizing: border-box;margin-bottom: 0.5em;}#sk-container-id-1 div.sk-estimator:hover {background-color: #d4ebff;}#sk-container-id-1 div.sk-parallel-item::after {content: \"\";width: 100%;border-bottom: 1px solid gray;flex-grow: 1;}#sk-container-id-1 div.sk-label:hover label.sk-toggleable__label {background-color: #d4ebff;}#sk-container-id-1 div.sk-serial::before {content: \"\";position: absolute;border-left: 1px solid gray;box-sizing: border-box;top: 0;bottom: 0;left: 50%;z-index: 0;}#sk-container-id-1 div.sk-serial {display: flex;flex-direction: column;align-items: center;background-color: white;padding-right: 0.2em;padding-left: 0.2em;position: relative;}#sk-container-id-1 div.sk-item {position: relative;z-index: 1;}#sk-container-id-1 div.sk-parallel {display: flex;align-items: stretch;justify-content: center;background-color: white;position: relative;}#sk-container-id-1 div.sk-item::before, #sk-container-id-1 div.sk-parallel-item::before {content: \"\";position: absolute;border-left: 1px solid gray;box-sizing: border-box;top: 0;bottom: 0;left: 50%;z-index: -1;}#sk-container-id-1 div.sk-parallel-item {display: flex;flex-direction: column;z-index: 1;position: relative;background-color: white;}#sk-container-id-1 div.sk-parallel-item:first-child::after {align-self: flex-end;width: 50%;}#sk-container-id-1 div.sk-parallel-item:last-child::after {align-self: flex-start;width: 50%;}#sk-container-id-1 div.sk-parallel-item:only-child::after {width: 0;}#sk-container-id-1 div.sk-dashed-wrapped {border: 1px dashed gray;margin: 0 0.4em 0.5em 0.4em;box-sizing: border-box;padding-bottom: 0.4em;background-color: white;}#sk-container-id-1 div.sk-label label {font-family: monospace;font-weight: bold;display: inline-block;line-height: 1.2em;}#sk-container-id-1 div.sk-label-container {text-align: center;}#sk-container-id-1 div.sk-container {/* jupyter's `normalize.less` sets `[hidden] { display: none; }` but bootstrap.min.css set `[hidden] { display: none !important; }` so we also need the `!important` here to be able to override the default hidden behavior on the sphinx rendered scikit-learn.org. See: https://github.com/scikit-learn/scikit-learn/issues/21755 */display: inline-block !important;position: relative;}#sk-container-id-1 div.sk-text-repr-fallback {display: none;}</style><div id=\"sk-container-id-1\" class=\"sk-top-container\"><div class=\"sk-text-repr-fallback\"><pre>RandomizedSearchCV(cv=3,\n",
              "                   estimator=Pipeline(steps=[(&#x27;clf&#x27;,\n",
              "                                              RandomForestClassifier(random_state=42))]),\n",
              "                   param_distributions={&#x27;clf__max_depth&#x27;: [10, 20, 30, 40, 50,\n",
              "                                                           None],\n",
              "                                        &#x27;clf__min_samples_leaf&#x27;: [1, 2, 5, 10],\n",
              "                                        &#x27;clf__min_samples_split&#x27;: [2, 5, 10,\n",
              "                                                                   15],\n",
              "                                        &#x27;clf__n_estimators&#x27;: [100, 200, 300,\n",
              "                                                              400, 500]},\n",
              "                   random_state=42, scoring=&#x27;accuracy&#x27;)</pre><b>In a Jupyter environment, please rerun this cell to show the HTML representation or trust the notebook. <br />On GitHub, the HTML representation is unable to render, please try loading this page with nbviewer.org.</b></div><div class=\"sk-container\" hidden><div class=\"sk-item sk-dashed-wrapped\"><div class=\"sk-label-container\"><div class=\"sk-label sk-toggleable\"><input class=\"sk-toggleable__control sk-hidden--visually\" id=\"sk-estimator-id-1\" type=\"checkbox\" ><label for=\"sk-estimator-id-1\" class=\"sk-toggleable__label sk-toggleable__label-arrow\">RandomizedSearchCV</label><div class=\"sk-toggleable__content\"><pre>RandomizedSearchCV(cv=3,\n",
              "                   estimator=Pipeline(steps=[(&#x27;clf&#x27;,\n",
              "                                              RandomForestClassifier(random_state=42))]),\n",
              "                   param_distributions={&#x27;clf__max_depth&#x27;: [10, 20, 30, 40, 50,\n",
              "                                                           None],\n",
              "                                        &#x27;clf__min_samples_leaf&#x27;: [1, 2, 5, 10],\n",
              "                                        &#x27;clf__min_samples_split&#x27;: [2, 5, 10,\n",
              "                                                                   15],\n",
              "                                        &#x27;clf__n_estimators&#x27;: [100, 200, 300,\n",
              "                                                              400, 500]},\n",
              "                   random_state=42, scoring=&#x27;accuracy&#x27;)</pre></div></div></div><div class=\"sk-parallel\"><div class=\"sk-parallel-item\"><div class=\"sk-item\"><div class=\"sk-label-container\"><div class=\"sk-label sk-toggleable\"><input class=\"sk-toggleable__control sk-hidden--visually\" id=\"sk-estimator-id-2\" type=\"checkbox\" ><label for=\"sk-estimator-id-2\" class=\"sk-toggleable__label sk-toggleable__label-arrow\">estimator: Pipeline</label><div class=\"sk-toggleable__content\"><pre>Pipeline(steps=[(&#x27;clf&#x27;, RandomForestClassifier(random_state=42))])</pre></div></div></div><div class=\"sk-serial\"><div class=\"sk-item\"><div class=\"sk-serial\"><div class=\"sk-item\"><div class=\"sk-estimator sk-toggleable\"><input class=\"sk-toggleable__control sk-hidden--visually\" id=\"sk-estimator-id-3\" type=\"checkbox\" ><label for=\"sk-estimator-id-3\" class=\"sk-toggleable__label sk-toggleable__label-arrow\">RandomForestClassifier</label><div class=\"sk-toggleable__content\"><pre>RandomForestClassifier(random_state=42)</pre></div></div></div></div></div></div></div></div></div></div></div></div>"
            ],
            "text/plain": [
              "RandomizedSearchCV(cv=3,\n",
              "                   estimator=Pipeline(steps=[('clf',\n",
              "                                              RandomForestClassifier(random_state=42))]),\n",
              "                   param_distributions={'clf__max_depth': [10, 20, 30, 40, 50,\n",
              "                                                           None],\n",
              "                                        'clf__min_samples_leaf': [1, 2, 5, 10],\n",
              "                                        'clf__min_samples_split': [2, 5, 10,\n",
              "                                                                   15],\n",
              "                                        'clf__n_estimators': [100, 200, 300,\n",
              "                                                              400, 500]},\n",
              "                   random_state=42, scoring='accuracy')"
            ]
          },
          "execution_count": 15,
          "metadata": {},
          "output_type": "execute_result"
        }
      ],
      "source": [
        "# Entrenar el modelo\n",
        "random_search.fit(X_train_tfidf, y_train.values.ravel())"
      ]
    },
    {
      "cell_type": "code",
      "execution_count": 16,
      "metadata": {
        "id": "bCxyg5jjKtyc"
      },
      "outputs": [],
      "source": [
        "# Predecir usando el conjunto de prueba\n",
        "y_pred = random_search.predict(X_test_tfidf)"
      ]
    },
    {
      "cell_type": "code",
      "execution_count": 17,
      "metadata": {
        "colab": {
          "base_uri": "https://localhost:8080/"
        },
        "id": "ZiSTk2HuLHEK",
        "outputId": "b0726840-d88c-472c-975a-315bd6b5adcf"
      },
      "outputs": [
        {
          "name": "stdout",
          "output_type": "stream",
          "text": [
            "              precision    recall  f1-score   support\n",
            "\n",
            "           0       0.76      0.30      0.43       267\n",
            "           1       0.86      0.98      0.92      1397\n",
            "           2       0.00      0.00      0.00         1\n",
            "           3       0.00      0.00      0.00         2\n",
            "           4       0.88      0.64      0.74        58\n",
            "           5       0.00      0.00      0.00         1\n",
            "           6       0.81      0.62      0.70        34\n",
            "\n",
            "    accuracy                           0.86      1760\n",
            "   macro avg       0.47      0.36      0.40      1760\n",
            "weighted avg       0.85      0.86      0.83      1760\n",
            "\n",
            "Accuracy: 0.8579545454545454\n"
          ]
        }
      ],
      "source": [
        "# Evaluar el rendimiento del modelo\n",
        "print(classification_report(y_test, y_pred))\n",
        "print(\"Accuracy:\", accuracy_score(y_test, y_pred))"
      ]
    },
    {
      "cell_type": "code",
      "execution_count": null,
      "metadata": {
        "id": "SoJHCRJ6LG_K"
      },
      "outputs": [],
      "source": [
        "descripcion_nueva = \"Contratación de Conducción Extraordinaria de Transporte del Correo en La Zona 4, Madrid Uses Apoyo a Centro y Unidades (6 lotes).\"\n",
        "descripcion_vectorizada = vectorizer.transform([descripcion_nueva])"
      ]
    },
    {
      "cell_type": "code",
      "execution_count": null,
      "metadata": {
        "colab": {
          "base_uri": "https://localhost:8080/"
        },
        "id": "G7LSs17Ayhon",
        "outputId": "6207fd1c-e9a9-4d26-da2a-d8c9fc345f2a"
      },
      "outputs": [
        {
          "name": "stdout",
          "output_type": "stream",
          "text": [
            "El tercer dígito predicho es: 601\n"
          ]
        }
      ],
      "source": [
        "third_digit_pred = random_search.predict(descripcion_vectorizada)\n",
        "print(f\"El tercer dígito predicho es: {twodig}{third_digit_pred[0]}\")"
      ]
    },
    {
      "cell_type": "code",
      "execution_count": null,
      "metadata": {
        "colab": {
          "base_uri": "https://localhost:8080/",
          "height": 619
        },
        "id": "P6jdLQBD3Ob8",
        "outputId": "92ffef3e-e6bd-4d67-8497-2ff384f3e171"
      },
      "outputs": [],
      "source": [
        "#Matriz de confusión\n",
        "# Calcular la matriz de confusión\n",
        "cm = confusion_matrix(y_test, y_pred)\n",
        "\n",
        "# Visualizar la matriz de confusión\n",
        "plt.figure(figsize=(7, 7))\n",
        "sns.heatmap(cm, annot=True, fmt='d', cmap='Blues')\n",
        "#plt.title('Matriz de Confusión')\n",
        "plt.xlabel('Predicted Label')\n",
        "plt.ylabel('True Label')\n",
        "plt.show()"
      ]
    },
    {
      "cell_type": "markdown",
      "metadata": {
        "id": "JEx52NtPTkL7"
      },
      "source": [
        "## Exploración de los datos"
      ]
    },
    {
      "cell_type": "code",
      "execution_count": null,
      "metadata": {
        "colab": {
          "base_uri": "https://localhost:8080/",
          "height": 206
        },
        "id": "1X59xmIG5rEE",
        "outputId": "b0ae28f1-75eb-47ce-de7c-2ac919f03100"
      },
      "outputs": [
        {
          "data": {
            "text/html": [
              "\n",
              "  <div id=\"df-3cc17e67-2256-4a10-9754-bf337b22a3f3\">\n",
              "    <div class=\"colab-df-container\">\n",
              "      <div>\n",
              "<style scoped>\n",
              "    .dataframe tbody tr th:only-of-type {\n",
              "        vertical-align: middle;\n",
              "    }\n",
              "\n",
              "    .dataframe tbody tr th {\n",
              "        vertical-align: top;\n",
              "    }\n",
              "\n",
              "    .dataframe thead th {\n",
              "        text-align: right;\n",
              "    }\n",
              "</style>\n",
              "<table border=\"1\" class=\"dataframe\">\n",
              "  <thead>\n",
              "    <tr style=\"text-align: right;\">\n",
              "      <th></th>\n",
              "      <th>description</th>\n",
              "      <th>800</th>\n",
              "      <th>801</th>\n",
              "      <th>802</th>\n",
              "      <th>803</th>\n",
              "      <th>804</th>\n",
              "      <th>805</th>\n",
              "      <th>806</th>\n",
              "    </tr>\n",
              "  </thead>\n",
              "  <tbody>\n",
              "    <tr>\n",
              "      <th>43</th>\n",
              "      <td>Servicio de formación en Sensibilización sobre...</td>\n",
              "      <td>0</td>\n",
              "      <td>0</td>\n",
              "      <td>0</td>\n",
              "      <td>0</td>\n",
              "      <td>0</td>\n",
              "      <td>1</td>\n",
              "      <td>0</td>\n",
              "    </tr>\n",
              "    <tr>\n",
              "      <th>76</th>\n",
              "      <td>Jornada de convivencia infantil Micropolix</td>\n",
              "      <td>1</td>\n",
              "      <td>0</td>\n",
              "      <td>0</td>\n",
              "      <td>0</td>\n",
              "      <td>0</td>\n",
              "      <td>0</td>\n",
              "      <td>0</td>\n",
              "    </tr>\n",
              "    <tr>\n",
              "      <th>81</th>\n",
              "      <td>Contrato de servicios docentes externos, para ...</td>\n",
              "      <td>0</td>\n",
              "      <td>0</td>\n",
              "      <td>0</td>\n",
              "      <td>0</td>\n",
              "      <td>0</td>\n",
              "      <td>1</td>\n",
              "      <td>0</td>\n",
              "    </tr>\n",
              "    <tr>\n",
              "      <th>87</th>\n",
              "      <td>Contrato derivado del acuerdo marco para la co...</td>\n",
              "      <td>0</td>\n",
              "      <td>0</td>\n",
              "      <td>0</td>\n",
              "      <td>0</td>\n",
              "      <td>0</td>\n",
              "      <td>1</td>\n",
              "      <td>0</td>\n",
              "    </tr>\n",
              "    <tr>\n",
              "      <th>156</th>\n",
              "      <td>Prórroga del servicio de aeronaves de ala rota...</td>\n",
              "      <td>0</td>\n",
              "      <td>0</td>\n",
              "      <td>0</td>\n",
              "      <td>0</td>\n",
              "      <td>1</td>\n",
              "      <td>0</td>\n",
              "      <td>0</td>\n",
              "    </tr>\n",
              "  </tbody>\n",
              "</table>\n",
              "</div>\n",
              "      <button class=\"colab-df-convert\" onclick=\"convertToInteractive('df-3cc17e67-2256-4a10-9754-bf337b22a3f3')\"\n",
              "              title=\"Convert this dataframe to an interactive table.\"\n",
              "              style=\"display:none;\">\n",
              "        \n",
              "  <svg xmlns=\"http://www.w3.org/2000/svg\" height=\"24px\"viewBox=\"0 0 24 24\"\n",
              "       width=\"24px\">\n",
              "    <path d=\"M0 0h24v24H0V0z\" fill=\"none\"/>\n",
              "    <path d=\"M18.56 5.44l.94 2.06.94-2.06 2.06-.94-2.06-.94-.94-2.06-.94 2.06-2.06.94zm-11 1L8.5 8.5l.94-2.06 2.06-.94-2.06-.94L8.5 2.5l-.94 2.06-2.06.94zm10 10l.94 2.06.94-2.06 2.06-.94-2.06-.94-.94-2.06-.94 2.06-2.06.94z\"/><path d=\"M17.41 7.96l-1.37-1.37c-.4-.4-.92-.59-1.43-.59-.52 0-1.04.2-1.43.59L10.3 9.45l-7.72 7.72c-.78.78-.78 2.05 0 2.83L4 21.41c.39.39.9.59 1.41.59.51 0 1.02-.2 1.41-.59l7.78-7.78 2.81-2.81c.8-.78.8-2.07 0-2.86zM5.41 20L4 18.59l7.72-7.72 1.47 1.35L5.41 20z\"/>\n",
              "  </svg>\n",
              "      </button>\n",
              "      \n",
              "  <style>\n",
              "    .colab-df-container {\n",
              "      display:flex;\n",
              "      flex-wrap:wrap;\n",
              "      gap: 12px;\n",
              "    }\n",
              "\n",
              "    .colab-df-convert {\n",
              "      background-color: #E8F0FE;\n",
              "      border: none;\n",
              "      border-radius: 50%;\n",
              "      cursor: pointer;\n",
              "      display: none;\n",
              "      fill: #1967D2;\n",
              "      height: 32px;\n",
              "      padding: 0 0 0 0;\n",
              "      width: 32px;\n",
              "    }\n",
              "\n",
              "    .colab-df-convert:hover {\n",
              "      background-color: #E2EBFA;\n",
              "      box-shadow: 0px 1px 2px rgba(60, 64, 67, 0.3), 0px 1px 3px 1px rgba(60, 64, 67, 0.15);\n",
              "      fill: #174EA6;\n",
              "    }\n",
              "\n",
              "    [theme=dark] .colab-df-convert {\n",
              "      background-color: #3B4455;\n",
              "      fill: #D2E3FC;\n",
              "    }\n",
              "\n",
              "    [theme=dark] .colab-df-convert:hover {\n",
              "      background-color: #434B5C;\n",
              "      box-shadow: 0px 1px 3px 1px rgba(0, 0, 0, 0.15);\n",
              "      filter: drop-shadow(0px 1px 2px rgba(0, 0, 0, 0.3));\n",
              "      fill: #FFFFFF;\n",
              "    }\n",
              "  </style>\n",
              "\n",
              "      <script>\n",
              "        const buttonEl =\n",
              "          document.querySelector('#df-3cc17e67-2256-4a10-9754-bf337b22a3f3 button.colab-df-convert');\n",
              "        buttonEl.style.display =\n",
              "          google.colab.kernel.accessAllowed ? 'block' : 'none';\n",
              "\n",
              "        async function convertToInteractive(key) {\n",
              "          const element = document.querySelector('#df-3cc17e67-2256-4a10-9754-bf337b22a3f3');\n",
              "          const dataTable =\n",
              "            await google.colab.kernel.invokeFunction('convertToInteractive',\n",
              "                                                     [key], {});\n",
              "          if (!dataTable) return;\n",
              "\n",
              "          const docLinkHtml = 'Like what you see? Visit the ' +\n",
              "            '<a target=\"_blank\" href=https://colab.research.google.com/notebooks/data_table.ipynb>data table notebook</a>'\n",
              "            + ' to learn more about interactive tables.';\n",
              "          element.innerHTML = '';\n",
              "          dataTable['output_type'] = 'display_data';\n",
              "          await google.colab.output.renderOutput(dataTable, element);\n",
              "          const docLink = document.createElement('div');\n",
              "          docLink.innerHTML = docLinkHtml;\n",
              "          element.appendChild(docLink);\n",
              "        }\n",
              "      </script>\n",
              "    </div>\n",
              "  </div>\n",
              "  "
            ],
            "text/plain": [
              "                                           description  800  801  802  803  \\\n",
              "43   Servicio de formación en Sensibilización sobre...    0    0    0    0   \n",
              "76          Jornada de convivencia infantil Micropolix    1    0    0    0   \n",
              "81   Contrato de servicios docentes externos, para ...    0    0    0    0   \n",
              "87   Contrato derivado del acuerdo marco para la co...    0    0    0    0   \n",
              "156  Prórroga del servicio de aeronaves de ala rota...    0    0    0    0   \n",
              "\n",
              "     804  805  806  \n",
              "43     0    1    0  \n",
              "76     0    0    0  \n",
              "81     0    1    0  \n",
              "87     0    1    0  \n",
              "156    1    0    0  "
            ]
          },
          "execution_count": 26,
          "metadata": {},
          "output_type": "execute_result"
        }
      ],
      "source": [
        "df_03.head()"
      ]
    },
    {
      "cell_type": "code",
      "execution_count": null,
      "metadata": {
        "id": "qRsuGCQsYydi"
      },
      "outputs": [],
      "source": [
        "#df.info()\n",
        "#df.isnull().sum()\n",
        "# Filtrar por aquellos valores de 3 dígitos que contengan 1\n",
        "values = {'800': df_03[df_03[\"800\"]==1].shape[0], '801': df_03[df_03[\"801\"]==1].shape[0], '802': df_03[df_03[\"802\"]==1].shape[0], '803': df_03[df_03[\"803\"]==1].shape[0],\n",
        "           '804': df_03[df_03[\"804\"]==1].shape[0],  '805': df_03[df_03[\"805\"]==1].shape[0], '806': df_03[df_03[\"806\"]==1].shape[0]}\n",
        "\n",
        "plt.bar(values.keys(), values.values())\n",
        "#plt.title('Counts of 1s in each column')\n",
        "plt.xlabel('Grupos')\n",
        "plt.ylabel('Cantidad de Observaciones')\n",
        "plt.show()\n",
        "\n",
        "''' #Filtrar valores por aquellos valores de 2 dígitos que contengan 1\n",
        "# Crea un diccionario para almacenar las cuentas de los '1's para cada columna\n",
        "counts = {column: df[column].value_counts().get(1, 0) for column in df.columns}\n",
        "\n",
        "# Convierte el diccionario a una serie de pandas para facilitar el gráfico\n",
        "counts_series = pd.Series(counts)\n",
        "\n",
        "# Crea el gráfico de barras\n",
        "plt.figure(figsize=(10,6))\n",
        "counts_series.plot(kind='bar')\n",
        "plt.xlabel('Grupos')\n",
        "plt.ylabel('Cantidad de observaciones')\n",
        "plt.show() '''\n"
      ]
    },
    {
      "cell_type": "markdown",
      "metadata": {
        "id": "ibRy7Nei_X_8"
      },
      "source": [
        "### Saber la clase con menos observaciones y desbalanceada"
      ]
    },
    {
      "cell_type": "code",
      "execution_count": null,
      "metadata": {
        "colab": {
          "base_uri": "https://localhost:8080/"
        },
        "id": "33FD5jG_3LOl",
        "outputId": "bdc8a72b-bc21-42b5-a5f7-d3283fbb5f49"
      },
      "outputs": [
        {
          "name": "stdout",
          "output_type": "stream",
          "text": [
            "La columna con menos unos es: 428\n"
          ]
        }
      ],
      "source": [
        "#Saber la clase con menos observaciones\n",
        "\n",
        "df_temp = df.drop(columns=['description'])\n",
        "# Esto asume que estás buscando la columna con menos 1s\n",
        "min_ones = min(df_temp[df_temp == 1].count())\n",
        "\n",
        "# Ahora busca la columna que tiene esa cantidad de 1s\n",
        "min_ones_column = df_temp.columns[(df_temp == 1).sum() == min_ones][0]\n",
        "\n",
        "print(\"La columna con menos unos es:\", min_ones_column)"
      ]
    },
    {
      "cell_type": "code",
      "execution_count": null,
      "metadata": {
        "colab": {
          "base_uri": "https://localhost:8080/"
        },
        "id": "OMl1tGly_glR",
        "outputId": "b19debbe-789e-4600-8351-5e07ac4b7701"
      },
      "outputs": [
        {
          "name": "stdout",
          "output_type": "stream",
          "text": [
            "La clase más desbalanceada es 428 con un porcentaje de 0.0002592957527355702% para la clase minoritaria.\n"
          ]
        }
      ],
      "source": [
        "#Saber cuál es la clase más desbalanceada\n",
        "\n",
        "# inicializa un diccionario para almacenar los desbalanceos\n",
        "desbalanceo = {}\n",
        "\n",
        "for columna in df_temp.columns:\n",
        "    # calcula el desbalanceo en esta columna\n",
        "    counts = df_temp[columna].value_counts()\n",
        "    porcentaje_clase_minoritaria = min(counts) / sum(counts) * 100\n",
        "    desbalanceo[columna] = porcentaje_clase_minoritaria\n",
        "\n",
        "# encuentra la clase más desbalanceada\n",
        "clase_mas_desbalanceada = min(desbalanceo, key=desbalanceo.get)\n",
        "\n",
        "print(f\"La clase más desbalanceada es {clase_mas_desbalanceada} con un porcentaje de {desbalanceo[clase_mas_desbalanceada]}% para la clase minoritaria.\")\n"
      ]
    },
    {
      "cell_type": "code",
      "execution_count": null,
      "metadata": {
        "colab": {
          "base_uri": "https://localhost:8080/"
        },
        "id": "CEnDwW6QDdnz",
        "outputId": "55a3edd8-d242-4dec-c9f2-c56917c271d2"
      },
      "outputs": [
        {
          "name": "stdout",
          "output_type": "stream",
          "text": [
            "La clase más balanceada es 452 con un porcentaje de 14.854275786962608% para la clase minoritaria.\n"
          ]
        }
      ],
      "source": [
        "#Saber cuál es la clase más balanceada\n",
        "\n",
        "# Se supone que `df` es tu DataFrame y que todas sus columnas representan clases distintas.\n",
        "\n",
        "# inicializa un diccionario para almacenar los desbalanceos\n",
        "desbalanceo = {}\n",
        "\n",
        "for columna in df_temp.columns:\n",
        "    # calcula el desbalanceo en esta columna\n",
        "    counts = df_temp[columna].value_counts()\n",
        "    porcentaje_clase_minoritaria = min(counts) / sum(counts) * 100\n",
        "    desbalanceo[columna] = porcentaje_clase_minoritaria\n",
        "\n",
        "# encuentra la clase más balanceada\n",
        "clase_mas_balanceada = max(desbalanceo, key=desbalanceo.get)\n",
        "\n",
        "print(f\"La clase más balanceada es {clase_mas_balanceada} con un porcentaje de {desbalanceo[clase_mas_balanceada]}% para la clase minoritaria.\")"
      ]
    },
    {
      "cell_type": "markdown",
      "metadata": {
        "id": "GGhQiScX8WY9"
      },
      "source": [
        "## Prueba con todos los 2 primeros dígitos"
      ]
    },
    {
      "cell_type": "markdown",
      "metadata": {
        "id": "W5ZFItgSFEKK"
      },
      "source": [
        "### Código para quedarnos sólo las filas y columnas cuyo código empieza por dos dígitos específico"
      ]
    },
    {
      "cell_type": "code",
      "execution_count": null,
      "metadata": {
        "id": "ozKhbWVhEwtT"
      },
      "outputs": [],
      "source": [
        "twodig = '38'\n",
        "columns = df.columns.str.startswith(twodig) #Cogemos las columnas que empiezan por los dos primeros digitos que queremos"
      ]
    },
    {
      "cell_type": "code",
      "execution_count": null,
      "metadata": {
        "id": "LtXW8_YeExOX"
      },
      "outputs": [],
      "source": [
        "columns[1]= True #También queremos la descripcion, asi que la primera columna tambien la ponemos a True\n",
        "df_03 = df.loc[:,columns] #Nos quedamos con las columnas seleccionadas\n",
        "df_03 = df_03[df_03[list(df_03.columns[1:].values)].any(axis='columns')] #Nos quedamos solo las filas que tengan algún 1"
      ]
    },
    {
      "cell_type": "code",
      "execution_count": null,
      "metadata": {
        "id": "uCyKewDZE6MX"
      },
      "outputs": [],
      "source": [
        "df_03.head(20)"
      ]
    },
    {
      "cell_type": "code",
      "execution_count": null,
      "metadata": {
        "colab": {
          "base_uri": "https://localhost:8080/",
          "height": 36
        },
        "id": "zPRhygS8E5Ge",
        "outputId": "0080701d-22b9-4b7e-d459-16bff7977c0d"
      },
      "outputs": [
        {
          "data": {
            "application/vnd.google.colaboratory.intrinsic+json": {
              "type": "string"
            },
            "text/plain": [
              "'Quinto pedido derivado del Acuerdo Marco para el suministro de equipamiento multimedia. (Exp. 066/20).'"
            ]
          },
          "execution_count": 111,
          "metadata": {},
          "output_type": "execute_result"
        }
      ],
      "source": [
        "df.iloc[216].description"
      ]
    },
    {
      "cell_type": "markdown",
      "metadata": {
        "id": "06E0j7yUFNoP"
      },
      "source": [
        "### Función para procesar las descripciones"
      ]
    },
    {
      "cell_type": "code",
      "execution_count": null,
      "metadata": {
        "id": "8y14_ye3FYwP"
      },
      "outputs": [],
      "source": [
        "# Cargar el modelo en español de spaCy\n",
        "nlp = spacy.load('es_core_news_sm')\n",
        "# Función para procesar las descripciones utilizando técnicas de NLP\n",
        "def preprocess_text(text):\n",
        "    # Lowercasing, procesar el texto y crear un objeto Doc\n",
        "    doc = nlp(text.lower())\n",
        "\n",
        "    # Noise removal and lemmatization\n",
        "    words = [token.lemma_ for token in doc if not token.is_punct]\n",
        "\n",
        "    # Stop word removal\n",
        "    words = [word for word in words if word not in nlp.Defaults.stop_words]\n",
        "\n",
        "    # Rejoin words\n",
        "    text = ' '.join(words)\n",
        "\n",
        "    return text"
      ]
    },
    {
      "cell_type": "markdown",
      "metadata": {
        "id": "zTuxCVtGFhhm"
      },
      "source": [
        "### Entrenamiento del modelo"
      ]
    },
    {
      "cell_type": "code",
      "execution_count": null,
      "metadata": {
        "id": "GPOe0amFyhki"
      },
      "outputs": [],
      "source": [
        "from collections import defaultdict\n",
        "two_digits_list = ['03', '09', '14', '15', '16', '18', '19', '22', '24', '30', '31', '32', '33', '34', '35', '37', '38', '39', '41', '42', '43', '44', '45', '48', '50', '51', '55', '60', '63', '64', '65', '66', '70', '71', '72', '73','75', '76', '77', '79', '80', '85', '90', '92', '98']\n",
        "# Inicializar un diccionario para almacenar los resultados\n",
        "results = {twodig: {} for twodig in two_digits_list}\n",
        "path = \"ruta\"\n",
        "def train_and_evaluate_for_twodig(twodig):\n",
        "    columns = df.columns.str.startswith(twodig)\n",
        "    columns[1] = True #columns[1] = True\n",
        "    df_twodig = df.loc[:, columns]\n",
        "    df_twodig = df_twodig[df_twodig[list(df_twodig.columns[1:].values)].any(axis='columns')]\n",
        "\n",
        "    X = []\n",
        "    y = []\n",
        "\n",
        "    for index, row in df_twodig.iterrows():\n",
        "        descripcion = row['description']\n",
        "\n",
        "        for col in df_twodig.columns[1:]:\n",
        "            if row[col] == 1:\n",
        "                two_digits = col[:2]\n",
        "                third_digit = col[2]\n",
        "\n",
        "                X.append((descripcion, two_digits))\n",
        "                y.append(third_digit)\n",
        "\n",
        "    X = pd.DataFrame(X, columns=['description', 'two_digits'])\n",
        "    y = pd.DataFrame(y, columns=['third_digit'])\n",
        "\n",
        "    X['description'] = X['description'].apply(preprocess_text)\n",
        "\n",
        "    X_train, X_test, y_train, y_test = train_test_split(X, y, test_size=0.2, random_state=42)\n",
        "\n",
        "    vectorizer = TfidfVectorizer(max_features=1000)\n",
        "    X_train_tfidf = vectorizer.fit_transform(X_train['description'])\n",
        "    X_test_tfidf = vectorizer.transform(X_test['description'])\n",
        "\n",
        "  #---------Random Forest---------\n",
        "\n",
        "    rf_model = RandomForestClassifier(random_state=42)\n",
        "\n",
        "    pipeline = Pipeline([\n",
        "        ('clf', rf_model)\n",
        "    ])\n",
        "\n",
        "\n",
        "    # Especifica los rangos de hiperparámetros\n",
        "    param_dist = {\n",
        "        \"clf__n_estimators\": [100, 200, 300, 400, 500],\n",
        "        \"clf__max_depth\": [10, 20, 30, 40, 50, None],\n",
        "        \"clf__min_samples_split\": [2, 5, 10, 15],\n",
        "        \"clf__min_samples_leaf\": [1, 2, 5, 10],\n",
        "    }\n",
        "\n",
        "    # Inicializa RandomizedSearchCV\n",
        "    random_search = RandomizedSearchCV(\n",
        "        estimator=pipeline,\n",
        "        param_distributions=param_dist,\n",
        "        n_iter=10,\n",
        "        cv=3,\n",
        "        scoring=\"accuracy\",\n",
        "        random_state=42,\n",
        "    )\n",
        "\n",
        "    # Ajusta RandomizedSearchCV en los datos de entrenamiento\n",
        "    random_search.fit(X_train_tfidf, y_train.values.ravel())\n",
        "\n",
        "    # Obtén el mejor pipeline y sus hiperparámetros\n",
        "    best_pipeline = random_search.best_estimator_\n",
        "    best_params = random_search.best_params_\n",
        "\n",
        "    y_pred = best_pipeline.predict(X_test_tfidf)\n",
        "\n",
        "    accuracy = accuracy_score(y_test, y_pred)\n",
        "   \n",
        "    #Guardar el pipeline y el vectorizer\n",
        "    dump(best_pipeline, f'{path}pipeline_{twodig}.joblib')\n",
        "    dump(vectorizer, f'{path}vectorizer_{twodig}.joblib')\n",
        "\n",
        "    return accuracy, pipeline, vectorizer"
      ]
    },
    {
      "cell_type": "code",
      "execution_count": null,
      "metadata": {
        "id": "77RGdzehI9HB"
      },
      "outputs": [],
      "source": [
        "# Entrenar y evaluar un modelo para cada par de dígitos\n",
        "for twodig in two_digits_list:\n",
        "    accuracy, model, vectorizer = train_and_evaluate_for_twodig(twodig)\n",
        "    results[twodig]['accuracy'] = accuracy\n",
        "    results[twodig]['model'] = model\n",
        "    results[twodig]['vectorizer'] = vectorizer"
      ]
    },
    {
      "cell_type": "code",
      "execution_count": null,
      "metadata": {
        "id": "aLMAcJWg8sJW"
      },
      "outputs": [],
      "source": [
        "# Dada la descripción, predecir el mejor tercer dígito\n",
        "def predict_best_third_digit(description, twodigits):\n",
        "    # Cargar el modelo y el vectorizer\n",
        "    model = load(f'{path}pipeline_{twodig}.joblib')\n",
        "    vectorizer = load(f'{path}vectorizer_{twodig}.joblib')\n",
        "\n",
        "    # Transformar la descripción con el vectorizer cargado\n",
        "    descripcion_vectorizada = vectorizer.transform([description])\n",
        "\n",
        "    # Predecir la probabilidad y la etiqueta\n",
        "    third_digit_proba = model.predict_proba(descripcion_vectorizada)\n",
        "    third_digit_pred = model.predict(descripcion_vectorizada)\n",
        "\n",
        "    return third_digit_pred[0], np.max(third_digit_proba)"
      ]
    },
    {
      "cell_type": "code",
      "execution_count": null,
      "metadata": {
        "colab": {
          "base_uri": "https://localhost:8080/"
        },
        "id": "GgNA6NunyNL6",
        "outputId": "4861ce2a-188b-422b-faf1-c352021b0b9d"
      },
      "outputs": [
        {
          "name": "stdout",
          "output_type": "stream",
          "text": [
            "La mejor predicción para la descripción dada es:\n",
            "Dos dígitos: 38, tercer dígito: 6, probabilidad: 0.6402952822890903\n",
            "Concatenación de los 3 dígitos: 386\n"
          ]
        }
      ],
      "source": [
        "descripcion_nueva = df.iloc[216].description\n",
        "twodig = '38'\n",
        "best_prediction, best_proba = predict_best_third_digit(descripcion_nueva,twodig)\n",
        "print(f\"La mejor predicción para la descripción dada es:\")\n",
        "print(f\"Dos dígitos: {twodig}, tercer dígito: {best_prediction}, probabilidad: {best_proba}\")\n",
        "print(f\"Concatenación de los 3 dígitos: {twodig}{best_prediction}\")"
      ]
    }
  ],
  "metadata": {
    "accelerator": "GPU",
    "colab": {
      "collapsed_sections": [
        "W5ZFItgSFEKK",
        "06E0j7yUFNoP",
        "zTuxCVtGFhhm"
      ],
      "machine_shape": "hm",
      "provenance": []
    },
    "gpuClass": "standard",
    "kernelspec": {
      "display_name": "Python 3",
      "name": "python3"
    },
    "language_info": {
      "name": "python"
    }
  },
  "nbformat": 4,
  "nbformat_minor": 0
}
